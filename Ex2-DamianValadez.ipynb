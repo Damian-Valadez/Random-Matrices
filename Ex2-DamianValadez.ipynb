{
 "cells": [
  {
   "cell_type": "code",
   "execution_count": 5,
   "metadata": {
    "id": "OaUAd9JIznHu"
   },
   "outputs": [],
   "source": [
    "import numpy as np\n",
    "from math import *\n",
    "\n",
    "import matplotlib.mlab as mlab\n",
    "import matplotlib.pyplot as plt"
   ]
  },
  {
   "cell_type": "code",
   "execution_count": 118,
   "metadata": {
    "id": "WDwK_frhznIE"
   },
   "outputs": [],
   "source": [
    "#Function that creates the real matrix of size n, random but symmetric entries, each of which has mean 0 and variance 1 (2 in the case of the diagonal)\n",
    "def goe(n):\n",
    "    v = np.random.normal(0,1,(n,n))\n",
    "    v = sqrt(0.5)*(v + np.transpose(v))\n",
    "    return v\n",
    "\n",
    "#Function that creates the real matrix of size n, random but symmetric entries, with exponential distribution\n",
    "def goe_exponential(n):\n",
    "    v = np.random.exponential(1,(n,n))\n",
    "    v = sqrt(10)*(v + np.transpose(v))\n",
    "    return v\n",
    "\n",
    "#Function that creates the real matrix of size n, random but symmetric entries, with uniform distribution from -1 to 1\n",
    "def goe_uniform(n):\n",
    "    v = np.random.uniform(-1,1,(n,n))\n",
    "    v = sqrt(0.5)*(v + np.transpose(v))\n",
    "    return v"
   ]
  },
  {
   "cell_type": "code",
   "execution_count": 119,
   "metadata": {
    "id": "Lny2tzGeznIU"
   },
   "outputs": [],
   "source": [
    "#Returns a vector of dimension nd*nmem whose entries are nd eigenvalues for each of the nmem matrices\n",
    "def main(nmem,nd):\n",
    "    xval = np.zeros(nmem*nd)\n",
    "    j = 0\n",
    "    for i in range(nmem):\n",
    "        hmat = goe(nd)\n",
    "        eigval = np.linalg.eigvals(hmat) \n",
    "        xm = sum(eigval)/len(eigval) \n",
    "        xv = np.std(eigval)\n",
    "        \n",
    "        for k in range(nd):\n",
    "            xval[j] = (eigval[k]-xm)/xv #standardizing the eigenvalues\n",
    "            j = j + 1    \n",
    "\n",
    "    return xval\n",
    "\n",
    "#Returns a vector of dimension nd*nmem whose entries are nd eigenvalues for each of the nmem matrices for exponential distribution\n",
    "def main_exponential(nmem,nd):\n",
    "    xval = np.zeros(nmem*nd)\n",
    "    j = 0\n",
    "    for i in range(nmem):\n",
    "        hmat = goe_exponential(nd)\n",
    "        eigval = np.linalg.eigvals(hmat) \n",
    "        xm = sum(eigval)/len(eigval) \n",
    "        xv = np.std(eigval)\n",
    "        \n",
    "        for k in range(nd):\n",
    "            xval[j] = (eigval[k]-xm)/xv #standardizing the eigenvalues\n",
    "            j = j + 1    \n",
    "\n",
    "    return xval\n",
    "\n",
    "#Returns a vector of dimension nd*nmem whose entries are nd eigenvalues for each of the nmem matrices for uniform distribution\n",
    "def main_uniform(nmem,nd):\n",
    "    xval = np.zeros(nmem*nd)\n",
    "    j = 0\n",
    "    for i in range(nmem):\n",
    "        hmat = goe_uniform(nd)\n",
    "        eigval = np.linalg.eigvals(hmat) \n",
    "        xm = sum(eigval)/len(eigval) \n",
    "        xv = np.std(eigval)\n",
    "        \n",
    "        for k in range(nd):\n",
    "            xval[j] = (eigval[k]-xm)/xv #standardizing the eigenvalues\n",
    "            j = j + 1    \n",
    "\n",
    "    return xval"
   ]
  },
  {
   "cell_type": "code",
   "execution_count": 115,
   "metadata": {
    "id": "ek8xldqAznIg"
   },
   "outputs": [],
   "source": [
    "#Gaussian\n",
    "xval200 = main(50,200)\n",
    "#Exponential\n",
    "xval200_e = main_exponential(50,200)\n",
    "#Uniform\n",
    "xval200_u = main_uniform(50,200)"
   ]
  },
  {
   "cell_type": "code",
   "execution_count": 124,
   "metadata": {
    "id": "GoGzaVmsznIq"
   },
   "outputs": [],
   "source": [
    "def semicircle(x):  #Wigner's Semi-Circle Law (Theory from RMT for eigenvalue distribution of GOE)\n",
    "    return sqrt(4-x**2)/(2*pi)\n",
    "\n",
    "xran = np.linspace(-2,2)\n",
    "yran = list((map(semicircle,xran)))\n",
    "\n",
    "def semicircle_exponential(x):  #Wigner's Semi-Circle Law for exponential distribution\n",
    "    return 2 * sqrt(1.2**2 - x**2)/(1.2**2 * pi)#The 1.2 value is approximated by eye and to make it fit with exponential\n",
    "\n",
    "xran_e = np.linspace(-1.2,1.2)\n",
    "yran_e = list((map(semicircle_exponential,xran_e)))\n",
    "\n",
    "#Limiting distribution (valid for large number of members in the ensemble and large matrix dimensions)"
   ]
  },
  {
   "cell_type": "code",
   "execution_count": 126,
   "metadata": {
    "id": "unow18j6znI1",
    "outputId": "cdc39f35-4d3e-4fe9-b48c-abcd0a1bacae"
   },
   "outputs": [
    {
     "data": {
      "image/png": "[encoded data removed]",
      "text/plain": [
       "<Figure size 432x288 with 1 Axes>"
      ]
     },
     "metadata": {
      "needs_background": "light"
     },
     "output_type": "display_data"
    }
   ],
   "source": [
    "num_bins = 200\n",
    "#Gaussian\n",
    "n, bins, patches = plt.hist(xval200, num_bins, facecolor='red', alpha=0.5,  density=True, label='d=200')\n",
    "plt.plot(xran,yran,c='black')\n",
    "#Exponential\n",
    "n, bins, patches = plt.hist(xval200_e, num_bins, facecolor='blue', alpha=0.5,  density=True, label='d=200')\n",
    "plt.plot(xran_e,yran_e,c='black')\n",
    "#Uniform\n",
    "n, bins, patches = plt.hist(xval200_u, num_bins, facecolor='yellow', alpha=0.5,  density=True, label='d=200')\n",
    "# plt.plot(xran,yran,c='black') #Is the same as Gaussian\n",
    "\n",
    "plt.xlabel('E')\n",
    "plt.ylabel('P(E)')\n",
    "plt.legend()\n",
    "\n",
    "plt.show()"
   ]
  },
  {
   "cell_type": "markdown",
   "metadata": {},
   "source": [
    "Both exponential and uniform distributions obey Wigner's semicircle law. However, there are some big eigenvalues which are putside of the semicircle. And the exponential doesn't obey exactly the same law since it's a different semicircle."
   ]
  },
  {
   "cell_type": "code",
   "execution_count": null,
   "metadata": {},
   "outputs": [],
   "source": []
  }
 ],
 "metadata": {
  "colab": {
   "collapsed_sections": [],
   "name": "Ex1-GOE.ipynb",
   "provenance": []
  },
  "kernelspec": {
   "display_name": "Python 3 (ipykernel)",
   "language": "python",
   "name": "python3"
  },
  "language_info": {
   "codemirror_mode": {
    "name": "ipython",
    "version": 3
   },
   "file_extension": ".py",
   "mimetype": "text/x-python",
   "name": "python",
   "nbconvert_exporter": "python",
   "pygments_lexer": "ipython3",
   "version": "3.8.12"
  }
 },
 "nbformat": 4,
 "nbformat_minor": 1
}
